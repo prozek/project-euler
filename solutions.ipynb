{
 "cells": [
  {
   "cell_type": "code",
   "execution_count": 7,
   "metadata": {},
   "outputs": [],
   "source": [
    "import numpy as np"
   ]
  },
  {
   "cell_type": "code",
   "execution_count": 73,
   "metadata": {},
   "outputs": [
    {
     "name": "stdout",
     "output_type": "stream",
     "text": [
      "266333 doubly including numbers divisible both by 3 and 5\n",
      "233168 proper answer\n"
     ]
    }
   ],
   "source": [
    "# problem one\n",
    "bound = 1000\n",
    "multiples_of_3 = [ x for x in range(bound) if x%3 == 0 ]\n",
    "multiples_of_5 = [ x for x in range(bound) if x%5 == 0 ]\n",
    "multiples_of_3_or_5 = [ x for x in range(bound) if x%3 == 0 or x%5 == 0 ]\n",
    "\n",
    "#multiples_of_5\n",
    "print(str(np.sum(multiples_of_5) + np.sum(multiples_of_3)) + \" doubly including numbers divisible both by 3 and 5\")\n",
    "print(str(np.sum(multiples_of_3_or_5)) + \" proper answer\")"
   ]
  },
  {
   "cell_type": "code",
   "execution_count": 83,
   "metadata": {},
   "outputs": [
    {
     "data": {
      "text/plain": [
       "4613732"
      ]
     },
     "execution_count": 83,
     "metadata": {},
     "output_type": "execute_result"
    }
   ],
   "source": [
    "# problem two\n",
    "bound = 4*1000000\n",
    "\n",
    "x = [1, 1]\n",
    "result = 0\n",
    "while x[-1] < bound:\n",
    "    x.append(x[-1] + x[-2])\n",
    "    if x[-1] % 2 == 0:\n",
    "        result += x[-1]\n",
    "\n",
    "result"
   ]
  },
  {
   "cell_type": "code",
   "execution_count": 87,
   "metadata": {},
   "outputs": [],
   "source": [
    "# problem three\n",
    "number = 600851475143 \n"
   ]
  },
  {
   "cell_type": "code",
   "execution_count": null,
   "metadata": {},
   "outputs": [],
   "source": []
  }
 ],
 "metadata": {
  "interpreter": {
   "hash": "254687e04be19c0b1a29203801a4af62c46341d497d3f0e7850aec614db8f292"
  },
  "kernelspec": {
   "display_name": "Python 3.9.2 64-bit",
   "language": "python",
   "name": "python3"
  },
  "language_info": {
   "codemirror_mode": {
    "name": "ipython",
    "version": 3
   },
   "file_extension": ".py",
   "mimetype": "text/x-python",
   "name": "python",
   "nbconvert_exporter": "python",
   "pygments_lexer": "ipython3",
   "version": "3.9.2"
  },
  "orig_nbformat": 4
 },
 "nbformat": 4,
 "nbformat_minor": 2
}
